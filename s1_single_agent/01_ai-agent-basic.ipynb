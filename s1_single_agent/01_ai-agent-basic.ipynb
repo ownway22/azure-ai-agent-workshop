{
 "cells": [
  {
   "cell_type": "markdown",
   "id": "98fefd2d",
   "metadata": {},
   "source": [
    "# Quick Start: Azure AI Foundry SDK"
   ]
  },
  {
   "cell_type": "markdown",
   "id": "5837b92b",
   "metadata": {},
   "source": [
    "### Step 1: Create a new agent\n",
    "This step shows how to create an Azure AI Agent using the Foundry SDK, attach tools, and start a conversation thread. The code demonstrates agent creation, thread creation, sending a message, running the agent, and retrieving responses.\n",
    "\n",
    "* [Azure AI Agents client library for Python - version 1.0.2](https://learn.microsoft.com/en-us/python/api/overview/azure/ai-agents-readme?view=azure-python)\n",
    "* [Azure AI Projects client library for Python - version 1.0.0b12](https://learn.microsoft.com/en-us/python/api/overview/azure/ai-projects-readme?view=azure-python-preview)"
   ]
  },
  {
   "cell_type": "code",
   "execution_count": 5,
   "id": "7f2c8a03",
   "metadata": {},
   "outputs": [
    {
     "name": "stdout",
     "output_type": "stream",
     "text": [
      "Project Endpoint: https://ai-foundry-hackathon-team55.services.ai.azure.com/api/projects/ai-project-hackathon-team55\n",
      "Model Deployment Name: gpt-4o\n",
      "Current Python executable: c:\\Users\\Yu-Hong (Frank) Lin\\Repos\\azure-ai-agent-workshop\\.venv\\Scripts\\python.exe\n"
     ]
    }
   ],
   "source": [
    "# --- Standard Library Imports ---\n",
    "import os\n",
    "import sys\n",
    "from dotenv import load_dotenv\n",
    "\n",
    "# --- Azure AI Foundry SDK for AI agents and services ---\n",
    "from azure.ai.agents.models import CodeInterpreterTool, FilePurpose, FileSearchTool, ListSortOrder\n",
    "from azure.ai.projects import AIProjectClient\n",
    "from azure.identity import DefaultAzureCredential\n",
    "\n",
    "# Load the environment variables from a .env file\n",
    "if not load_dotenv('../.env', override=True):\n",
    "    load_dotenv(override=True)\n",
    "\n",
    "print(f\"Project Endpoint: {os.getenv('AZURE_AI_AGENT_ENDPOINT')}\")\n",
    "print(f\"Model Deployment Name: {os.getenv('AZURE_AI_AGENT_MODEL_DEPLOYMENT_NAME')}\")\n",
    "\n",
    "# Check the current working Python execution environment\n",
    "print(f\"Current Python executable: {sys.executable}\")"
   ]
  },
  {
   "cell_type": "code",
   "execution_count": 6,
   "id": "c18dba12",
   "metadata": {},
   "outputs": [
    {
     "name": "stdout",
     "output_type": "stream",
     "text": [
      "Created agent, ID: asst_dANK6S5CN99uVK22PpC4TmwL\n",
      "Created thread, ID: thread_4pn0PfzIQs78xgBkfSjVo5aD\n",
      "Created message, ID: msg_1dvsQ2RsPyQEIEe6E0ltlCii\n",
      "Run finished with status: RunStatus.COMPLETED\n",
      "Role: MessageRole.AGENT, Content: [{'type': 'text', 'text': {'value': \"I can't fetch real-time data or access the internet to check the weather in Seattle today. You can check it on a reliable weather website like [Weather.com](https://www.weather.com/) or on a weather app. Let me know if you'd like advice on the best weather platforms or how to interpret the forecast!\", 'annotations': []}}]\n",
      "Role: MessageRole.USER, Content: [{'type': 'text', 'text': {'value': 'What is the weather in Seattle today?', 'annotations': []}}]\n"
     ]
    }
   ],
   "source": [
    "# Create an AIProjectClient instance\n",
    "project_client = AIProjectClient(\n",
    "    endpoint=os.environ[\"AZURE_AI_AGENT_ENDPOINT\"],  # Project endpoint from environment variable\n",
    "    credential=DefaultAzureCredential(),      # Use Azure Default Credential for authentication\n",
    ")\n",
    "\n",
    "code_interpreter = CodeInterpreterTool()\n",
    "\n",
    "with project_client:\n",
    "    agent = project_client.agents.create_agent(\n",
    "        model=os.environ[\"AZURE_AI_AGENT_MODEL_DEPLOYMENT_NAME\"],  # Model deployment name\n",
    "        name=\"01_SDK agent\",                        # Name of the agent\n",
    "        instructions=\"You are a helpful agent\",     # Instructions for the agent\n",
    "        tools=code_interpreter.definitions,         # Attach the tool\n",
    "    )\n",
    "    print(f\"Created agent, ID: {agent.id}\")\n",
    "\n",
    "    # Create a thread for communication\n",
    "    thread = project_client.agents.threads.create()\n",
    "    print(f\"Created thread, ID: {thread.id}\")\n",
    "    \n",
    "    # Add a message to the thread\n",
    "    message = project_client.agents.messages.create(\n",
    "        thread_id=thread.id,\n",
    "        role=\"user\",                                      # Role of the message sender\n",
    "        content=\"What is the weather in Seattle today?\",  # Message content\n",
    "    )\n",
    "    print(f\"Created message, ID: {message['id']}\")\n",
    "    \n",
    "    # Create and process an agent run\n",
    "    run = project_client.agents.runs.create_and_process(thread_id=thread.id, agent_id=agent.id)\n",
    "    print(f\"Run finished with status: {run.status}\")\n",
    "    \n",
    "    # Check if the run failed\n",
    "    if run.status == \"failed\":\n",
    "        print(f\"Run failed: {run.last_error}\")\n",
    "    \n",
    "    # Fetch and log all messages\n",
    "    messages = project_client.agents.messages.list(thread_id=thread.id)\n",
    "    for message in messages:\n",
    "        print(f\"Role: {message.role}, Content: {message.content}\")"
   ]
  },
  {
   "cell_type": "markdown",
   "id": "cc0b1282",
   "metadata": {},
   "source": [
    "### 02 Listing AI Project Agents\n",
    "This step demonstrates how to list all agents in your Azure AI Project using the Foundry SDK. The code retrieves and prints all available agents."
   ]
  },
  {
   "cell_type": "code",
   "execution_count": 7,
   "id": "6e137470",
   "metadata": {},
   "outputs": [
    {
     "name": "stdout",
     "output_type": "stream",
     "text": [
      "{'id': 'asst_dANK6S5CN99uVK22PpC4TmwL', 'object': 'assistant', 'created_at': 1754213572, 'name': '01_SDK agent', 'description': None, 'model': 'gpt-4o', 'instructions': 'You are a helpful agent', 'tools': [{'type': 'code_interpreter'}], 'top_p': 1.0, 'temperature': 1.0, 'tool_resources': {'code_interpreter': {'file_ids': []}}, 'metadata': {}, 'response_format': 'auto'}\n"
     ]
    }
   ],
   "source": [
    "project_client = AIProjectClient(\n",
    "    endpoint=os.environ[\"AZURE_AI_AGENT_ENDPOINT\"],\n",
    "    credential=DefaultAzureCredential(),  \n",
    ")\n",
    "\n",
    "# List the agents\n",
    "with project_client:\n",
    "    \n",
    "    agent_list = project_client.agents.list_agents()\n",
    "    for _agent in agent_list:\n",
    "        print(_agent)"
   ]
  },
  {
   "cell_type": "markdown",
   "id": "04bfbca1",
   "metadata": {},
   "source": [
    "### 03 Deleting an Agent from AI Project Client\n",
    "This step shows how to delete an existing agent from your Azure AI Project using the Foundry SDK. The code demonstrates the deletion process."
   ]
  },
  {
   "cell_type": "code",
   "execution_count": 8,
   "id": "31fad685",
   "metadata": {},
   "outputs": [
    {
     "name": "stdout",
     "output_type": "stream",
     "text": [
      "Deleted agent\n"
     ]
    }
   ],
   "source": [
    "project_client = AIProjectClient(\n",
    "    endpoint=os.environ[\"AZURE_AI_AGENT_ENDPOINT\"],\n",
    "    credential=DefaultAzureCredential(),  \n",
    ")\n",
    "\n",
    "# Delete the agent when done\n",
    "with project_client:\n",
    "    project_client.agents.delete_agent(agent.id)\n",
    "    print(\"Deleted agent\")"
   ]
  },
  {
   "cell_type": "markdown",
   "id": "ad41cf66",
   "metadata": {},
   "source": [
    "---\n",
    "\n",
    "##### Reference: [Create a new Azure AI Foundry Agent Service project - Azure AI Foundry | Microsoft Learn](https://learn.microsoft.com/en-us/azure/ai-foundry/agents/quickstart?pivots=programming-language-python-azure)"
   ]
  }
 ],
 "metadata": {
  "kernelspec": {
   "display_name": ".venv",
   "language": "python",
   "name": "python3"
  },
  "language_info": {
   "codemirror_mode": {
    "name": "ipython",
    "version": 3
   },
   "file_extension": ".py",
   "mimetype": "text/x-python",
   "name": "python",
   "nbconvert_exporter": "python",
   "pygments_lexer": "ipython3",
   "version": "3.11.9"
  }
 },
 "nbformat": 4,
 "nbformat_minor": 5
}
